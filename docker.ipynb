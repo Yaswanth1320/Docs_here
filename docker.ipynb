{
 "cells": [
  {
   "cell_type": "markdown",
   "metadata": {},
   "source": [
    "# Docker"
   ]
  },
  {
   "cell_type": "markdown",
   "metadata": {},
   "source": [
    " # Introduction to Docker\n",
    "\n",
    "**Docker is a platform for developing, shipping, and running applications. It uses containerization technology to package an application and its dependencies together in a container, which can run on any machine that supports Docker.In this notebook, we will cover some basic Docker commands and demonstrate how to use them to interact with Docker containers and images.**"
   ]
  },
  {
   "cell_type": "markdown",
   "metadata": {},
   "source": [
    "## What is Docker?   \n",
    "\n",
    "**Docker allows you to easily deploy applications inside lightweight, portable containers. Containers can run on any machine that has Docker installed, making it easier to move applications between development, testing, and production environments.**\n",
    "\n",
    "Key concepts in Docker:\n",
    "- **Image**: A snapshot of a file system and an application environment.\n",
    "- **Container**: A running instance of an image.\n",
    "- **Dockerfile**: A script containing instructions on how to build a Docker image.\n",
    "- **Docker Hub**: A public registry to find and share Docker images."
   ]
  },
  {
   "cell_type": "markdown",
   "metadata": {},
   "source": [
    "## Installing Docker\n",
    "\n",
    "**Before we can use Docker, we need to install it on our system. You can follow the instructions for your operating system from the official Docker website: https://docs.docker.com/get-docker/,Once installed, you can verify the installation by running the following command in the terminal**\n",
    "       "
   ]
  },
  {
   "cell_type": "code",
   "execution_count": null,
   "metadata": {
    "vscode": {
     "languageId": "shellscript"
    }
   },
   "outputs": [],
   "source": [
    "docker --version"
   ]
  },
  {
   "cell_type": "markdown",
   "metadata": {},
   "source": [
    "**This will display the version of Docker that is installed.**"
   ]
  },
  {
   "cell_type": "markdown",
   "metadata": {},
   "source": [
    "## Common Docker Commands\n",
    "\n",
    "**Here are some of the most commonly used Docker commands**"
   ]
  },
  {
   "cell_type": "code",
   "execution_count": null,
   "metadata": {
    "vscode": {
     "languageId": "shellscript"
    }
   },
   "outputs": [],
   "source": [
    "#!/bin/bash\n",
    "\n",
    "# 1. Display Docker version\n",
    "docker --version\n",
    "\n",
    "# 2. Pull an image (e.g., Ubuntu)\n",
    "docker pull ubuntu\n",
    "\n",
    "# 3. List all Docker images\n",
    "docker images\n",
    "\n",
    "# 4. Run a container from a specified image (e.g., Ubuntu)\n",
    "docker run -it ubuntu /bin/bash\n",
    "\n",
    "# 5. List all running containers\n",
    "docker ps\n",
    "\n",
    "# 6. Stop a running container (replace <container_id> with the actual container ID)\n",
    "docker stop <container_id>\n",
    "\n",
    "# 7. Remove a stopped container (replace <container_id> with the actual container ID)\n",
    "docker rm <container_id>\n",
    "\n",
    "# 8. Remove a Docker image (replace <image> with the actual image name)\n",
    "docker rmi <image>\n",
    "\n",
    "# 9. Build a Docker image from a Dockerfile (replace ./path_to_dockerfile with the actual path)\n",
    "docker build -t my_image ./path_to_dockerfile\n",
    "\n",
    "# 10. Start services defined in a docker-compose.yml file\n",
    "docker-compose up\n",
    "\n",
    "# 11. To cjeck logs for a particular image\n",
    "docker log <image_id>"
   ]
  },
  {
   "cell_type": "markdown",
   "metadata": {},
   "source": [
    " ## Example: Running a Docker Container\n",
    "\n",
    "**Let's run a simple Docker container using the `hello-world` image. This is a special image that simply prints a message when run.**\n",
    "**Run the following command to pull and run the `hello-world` image:**"
   ]
  },
  {
   "cell_type": "code",
   "execution_count": null,
   "metadata": {
    "vscode": {
     "languageId": "shellscript"
    }
   },
   "outputs": [],
   "source": [
    "docker run hello-world"
   ]
  },
  {
   "cell_type": "markdown",
   "metadata": {},
   "source": [
    "**You should see a welcome message from Docker confirming that your installation is working properly.**"
   ]
  },
  {
   "cell_type": "markdown",
   "metadata": {},
   "source": [
    "## Building a Custom Docker Image\n",
    "\n",
    "**Let's say you want to create a Docker image with a simple Python application. You can do this by creating a `Dockerfile`.**\n",
    "\n",
    "*1. Create a `Dockerfile` with the following contents:*"
   ]
  },
  {
   "cell_type": "code",
   "execution_count": null,
   "metadata": {
    "vscode": {
     "languageId": "powershell"
    }
   },
   "outputs": [],
   "source": [
    "FROM python:3.9-slim\n",
    "WORKDIR /app\n",
    "COPY . /app\n",
    "RUN pip install -r requirements.txt\n",
    "CMD [\"python\", \"app.py\"]"
   ]
  },
  {
   "cell_type": "markdown",
   "metadata": {},
   "source": [
    "*2. Build the image:*"
   ]
  },
  {
   "cell_type": "code",
   "execution_count": null,
   "metadata": {
    "vscode": {
     "languageId": "shellscript"
    }
   },
   "outputs": [],
   "source": [
    "docker build -t my-python-app"
   ]
  },
  {
   "cell_type": "markdown",
   "metadata": {},
   "source": [
    "*3. Run the container:*"
   ]
  },
  {
   "cell_type": "code",
   "execution_count": null,
   "metadata": {
    "vscode": {
     "languageId": "shellscript"
    }
   },
   "outputs": [],
   "source": [
    "docker run my-python-app\n",
    "docker run -d my-python-app #Runs the container in detach mode\n",
    "docker run -it my-python-app #if the image has server then it will run in a integrated terminal"
   ]
  },
  {
   "cell_type": "markdown",
   "metadata": {},
   "source": [
    "**This will build the image from the `Dockerfile` and run a container with your Python application.**"
   ]
  },
  {
   "cell_type": "markdown",
   "metadata": {},
   "source": [
    "## Docker Networking\n",
    "\n",
    "**Docker provides various networking options that allow containers to communicate with each other and the outside world**\n",
    "\n",
    "There are several types of Docker networks, each suited for different use cases:\n",
    "\n",
    "**Bridge Network (Default):**\n",
    "\n",
    "*This is the default network for containers when no other network is specified.\n",
    "Containers on the same bridge network can communicate with each other.\n",
    "Containers have their own IP addresses, but they can't directly access the host network.*\n",
    "\n",
    "**Host Network:**\n",
    "\n",
    "*Containers share the network namespace of the host.\n",
    "The container will use the host's IP address for networking.\n",
    "Useful when you need a container to interact with the host system as if it's part of the host network.*\n",
    "\n",
    "**Overlay Network:**\n",
    "\n",
    "*Used for multi-host networking in Docker Swarm mode or Docker Compose.\n",
    "It allows containers on different Docker hosts to communicate securely.\n",
    "Docker manages the communication through an encrypted network.*\n",
    "\n",
    "**Macvlan Network:**\n",
    "\n",
    "*Assigns a unique MAC address to each container, which makes it appear as a physical device on the network.\n",
    "Useful when you need containers to be accessible from the outside world as if they are separate physical machines.*\n",
    "\n",
    "**None Network:**\n",
    "\n",
    "*The container has no network interface, essentially isolating it from the network.\n",
    "Can be used when a container doesn’t need to communicate with other containers or external networks.*"
   ]
  },
  {
   "cell_type": "markdown",
   "metadata": {},
   "source": [
    "## Docker Networking Commands\n",
    "\n",
    "**Here are some commonly used commands related to Docker networking:**\n",
    "\n",
    "*1. View Available Networks*"
   ]
  },
  {
   "cell_type": "code",
   "execution_count": null,
   "metadata": {
    "vscode": {
     "languageId": "shellscript"
    }
   },
   "outputs": [],
   "source": [
    "docker network ls"
   ]
  },
  {
   "cell_type": "markdown",
   "metadata": {},
   "source": [
    "*2. Create a Custom Network*"
   ]
  },
  {
   "cell_type": "code",
   "execution_count": null,
   "metadata": {
    "vscode": {
     "languageId": "shellscript"
    }
   },
   "outputs": [],
   "source": [
    "docker network create my_network\n",
    "docker network create --driver bridge my_bridge_network #IF YOU WANT TO SPECIFY THE DRIVER TYPE"
   ]
  },
  {
   "cell_type": "markdown",
   "metadata": {},
   "source": [
    "## Docker Volumes:\n",
    "\n",
    "*In Docker, volumes are used to persist data outside of a container's filesystem, allowing data to be shared between containers or retained even if a container is removed or recreated. They are the preferred way to manage data in Docker as they provide several advantages over using bind mounts or storing data within the container itself.*"
   ]
  },
  {
   "cell_type": "markdown",
   "metadata": {},
   "source": [
    "## Why Use Volumes?\n",
    "\n",
    "- **Persistence**: Data stored in volumes persists even after a container stops or is removed.\n",
    "- **Share Data Between Containers**: Volumes can be mounted to multiple containers, enabling them to share data.\n",
    "- **Backups and Migration**: You can easily back up or move the data stored in volumes.\n",
    "- **Isolation**: Volumes are isolated from the host filesystem, which makes them safer and easier to manage.\n",
    "- **Performance**: Volumes typically offer better performance for I/O-bound workloads than bind mounts."
   ]
  },
  {
   "cell_type": "markdown",
   "metadata": {},
   "source": [
    "*Create a Volume*"
   ]
  },
  {
   "cell_type": "code",
   "execution_count": null,
   "metadata": {
    "vscode": {
     "languageId": "shellscript"
    }
   },
   "outputs": [],
   "source": [
    "\n",
    "docker volume create my_volume"
   ]
  },
  {
   "cell_type": "markdown",
   "metadata": {},
   "source": [
    "*List Volumes*"
   ]
  },
  {
   "cell_type": "code",
   "execution_count": null,
   "metadata": {
    "vscode": {
     "languageId": "shellscript"
    }
   },
   "outputs": [],
   "source": [
    "docker volume ls"
   ]
  },
  {
   "cell_type": "markdown",
   "metadata": {},
   "source": [
    "*Inspect a Volume*"
   ]
  },
  {
   "cell_type": "code",
   "execution_count": null,
   "metadata": {
    "vscode": {
     "languageId": "shellscript"
    }
   },
   "outputs": [],
   "source": [
    "docker volume inspect my_volume"
   ]
  },
  {
   "cell_type": "markdown",
   "metadata": {},
   "source": [
    "*Remove a Volume*"
   ]
  },
  {
   "cell_type": "code",
   "execution_count": null,
   "metadata": {
    "vscode": {
     "languageId": "shellscript"
    }
   },
   "outputs": [],
   "source": [
    "docker volume rm my_volume"
   ]
  },
  {
   "cell_type": "markdown",
   "metadata": {},
   "source": [
    "*Remove Unused Volumes*"
   ]
  },
  {
   "cell_type": "code",
   "execution_count": null,
   "metadata": {
    "vscode": {
     "languageId": "shellscript"
    }
   },
   "outputs": [],
   "source": [
    "docker volume prune"
   ]
  },
  {
   "cell_type": "markdown",
   "metadata": {},
   "source": [
    "## Conclusion\n",
    "\n",
    "**Docker is a powerful tool that simplifies the process of developing, shipping, and running applications. By using containers, you can ensure that your application will run consistently across different environments.**\n",
    "\n",
    "**In this notebook, we covered the basic Docker commands and workflows. For more advanced topics, such as networking, volumes, and Docker Compose, you can refer to the official Docker documentation: https://docs.docker.com/\".**"
   ]
  }
 ],
 "metadata": {
  "kernelspec": {
   "display_name": "base",
   "language": "python",
   "name": "python3"
  },
  "language_info": {
   "codemirror_mode": {
    "name": "ipython",
    "version": 3
   },
   "file_extension": ".py",
   "mimetype": "text/x-python",
   "name": "python",
   "nbconvert_exporter": "python",
   "pygments_lexer": "ipython3",
   "version": "3.11.4"
  }
 },
 "nbformat": 4,
 "nbformat_minor": 2
}
