{
 "cells": [
  {
   "cell_type": "markdown",
   "metadata": {},
   "source": [
    "# Redux Toolkit includes these APIs:\n",
    "\n",
    "- **configureStore():** *wraps createStore to provide simplified configuration options and good defaults. It can automatically combine your slice reducers, adds whatever Redux middleware you supply, includes redux-thunk by default, and enables use of the Redux DevTools Extension.*"
   ]
  },
  {
   "cell_type": "code",
   "execution_count": null,
   "metadata": {
    "vscode": {
     "languageId": "javascript"
    }
   },
   "outputs": [],
   "source": [
    "import { configureStore } from \"@reduxjs/toolkit\";\n",
    "import todoReducer from \"./slice/todoslice\";\n",
    "\n",
    "export const store = configureStore({\n",
    "  reducer: todoReducer,\n",
    "});"
   ]
  },
  {
   "cell_type": "markdown",
   "metadata": {},
   "source": [
    "- **createReducer():** that lets you supply a lookup table of action types to case reducer functions, rather than writing switch statements. In addition, it automatically uses the immer library to let you write simpler immutable updates with normal mutative code, like state.todos[3].completed = true.\n",
    "\n",
    "- **createAction():** generates an action creator function for the given action type string.\n",
    "\n",
    "- **createSlice():** accepts an object of reducer functions, a slice name, and an initial state value, and automatically generates a slice reducer with corresponding action creators and action types.\n",
    "\n",
    "- **combineSlices():** combines multiple slices into a single reducer, and allows \"lazy loading\" of slices after initialisation.\n",
    "\n",
    "- **createAsyncThunk:** accepts an action type string and a function that returns a promise, and generates a thunk that dispatches pending/fulfilled/rejected action types based on that promise\n",
    "\n",
    "- **createEntityAdapter:** generates a set of reusable reducers and selectors to manage normalized data in the store\n",
    "\n",
    "The createSelector utility from the Reselect library, re-exported for ease of use."
   ]
  },
  {
   "cell_type": "code",
   "execution_count": null,
   "metadata": {
    "vscode": {
     "languageId": "javascript"
    }
   },
   "outputs": [],
   "source": [
    "import { createSlice, nanoid } from \"@reduxjs/toolkit\";\n",
    "\n",
    "const initialState = {\n",
    "  todos: [{ id: 1, text: \"Hello world\" }],\n",
    "};\n",
    "\n",
    "export const todoSlice = createSlice({\n",
    "  name: \"todo\",\n",
    "  initialState,\n",
    "  reducers: {\n",
    "    addTodo: (state, action) => {\n",
    "      const todo = {\n",
    "        id: nanoid(),\n",
    "        text: action.payload,\n",
    "      };\n",
    "      state.todos.push(todo);\n",
    "    },\n",
    "    removeTodo: (state, action) => {\n",
    "      state.todos = state.todos.filter((todo) => todo.id !== action.payload);\n",
    "    },\n",
    "  },\n",
    "});\n",
    "\n",
    "export const { addTodo, removeTodo } = todoSlice.actions;\n",
    "export default todoSlice.reducer;"
   ]
  },
  {
   "cell_type": "code",
   "execution_count": null,
   "metadata": {
    "vscode": {
     "languageId": "javascript"
    }
   },
   "outputs": [],
   "source": [
    "const todos = useSelector((state) => state.todos);\n",
    "const dispatch = useDispatch();"
   ]
  }
 ],
 "metadata": {
  "language_info": {
   "name": "python"
  }
 },
 "nbformat": 4,
 "nbformat_minor": 2
}
